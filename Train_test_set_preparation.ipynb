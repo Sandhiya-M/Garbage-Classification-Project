{
 "cells": [
  {
   "cell_type": "code",
   "execution_count": 2,
   "id": "b2464e9a",
   "metadata": {},
   "outputs": [],
   "source": [
    "l=['glass','paper','cardboard','plastic','metal','trash']"
   ]
  },
  {
   "cell_type": "code",
   "execution_count": null,
   "id": "5501a622",
   "metadata": {},
   "outputs": [],
   "source": [
    "import os\n",
    "for i in l:\n",
    "    os.mkdir(\"/Dataset/Trainset/\"+i)\n",
    "    os.mkdir(\"/Dataset/Testset/\"+i)"
   ]
  },
  {
   "cell_type": "code",
   "execution_count": 45,
   "id": "5fb28238",
   "metadata": {},
   "outputs": [],
   "source": [
    "for i in l:\n",
    "    \n",
    "    os.mkdir(\"Dataset/validationset/\"+i)"
   ]
  },
  {
   "cell_type": "code",
   "execution_count": 32,
   "id": "39ce7531",
   "metadata": {},
   "outputs": [
    {
     "data": {
      "text/plain": [
       "['.ipynb_checkpoints', 'garbage', 'Train_test_set_preparation.ipynb']"
      ]
     },
     "execution_count": 32,
     "metadata": {},
     "output_type": "execute_result"
    }
   ],
   "source": [
    "os.listdir()"
   ]
  },
  {
   "cell_type": "code",
   "execution_count": 33,
   "id": "5360e371",
   "metadata": {},
   "outputs": [],
   "source": [
    "import pandas as pd"
   ]
  },
  {
   "cell_type": "code",
   "execution_count": 34,
   "id": "be534b3c",
   "metadata": {
    "scrolled": true
   },
   "outputs": [
    {
     "data": {
      "text/html": [
       "<div>\n",
       "<style scoped>\n",
       "    .dataframe tbody tr th:only-of-type {\n",
       "        vertical-align: middle;\n",
       "    }\n",
       "\n",
       "    .dataframe tbody tr th {\n",
       "        vertical-align: top;\n",
       "    }\n",
       "\n",
       "    .dataframe thead th {\n",
       "        text-align: right;\n",
       "    }\n",
       "</style>\n",
       "<table border=\"1\" class=\"dataframe\">\n",
       "  <thead>\n",
       "    <tr style=\"text-align: right;\">\n",
       "      <th></th>\n",
       "      <th>name</th>\n",
       "      <th>grp</th>\n",
       "    </tr>\n",
       "  </thead>\n",
       "  <tbody>\n",
       "    <tr>\n",
       "      <th>0</th>\n",
       "      <td>paper380.jpg</td>\n",
       "      <td>2</td>\n",
       "    </tr>\n",
       "    <tr>\n",
       "      <th>1</th>\n",
       "      <td>cardboard31.jpg</td>\n",
       "      <td>3</td>\n",
       "    </tr>\n",
       "    <tr>\n",
       "      <th>2</th>\n",
       "      <td>glass12.jpg</td>\n",
       "      <td>1</td>\n",
       "    </tr>\n",
       "    <tr>\n",
       "      <th>3</th>\n",
       "      <td>paper169.jpg</td>\n",
       "      <td>2</td>\n",
       "    </tr>\n",
       "    <tr>\n",
       "      <th>4</th>\n",
       "      <td>cardboard334.jpg</td>\n",
       "      <td>3</td>\n",
       "    </tr>\n",
       "    <tr>\n",
       "      <th>...</th>\n",
       "      <td>...</td>\n",
       "      <td>...</td>\n",
       "    </tr>\n",
       "    <tr>\n",
       "      <th>425</th>\n",
       "      <td>metal389.jpg</td>\n",
       "      <td>5</td>\n",
       "    </tr>\n",
       "    <tr>\n",
       "      <th>426</th>\n",
       "      <td>paper303.jpg</td>\n",
       "      <td>2</td>\n",
       "    </tr>\n",
       "    <tr>\n",
       "      <th>427</th>\n",
       "      <td>paper405.jpg</td>\n",
       "      <td>2</td>\n",
       "    </tr>\n",
       "    <tr>\n",
       "      <th>428</th>\n",
       "      <td>paper465.jpg</td>\n",
       "      <td>2</td>\n",
       "    </tr>\n",
       "    <tr>\n",
       "      <th>429</th>\n",
       "      <td>trash132.jpg</td>\n",
       "      <td>6</td>\n",
       "    </tr>\n",
       "  </tbody>\n",
       "</table>\n",
       "<p>430 rows × 2 columns</p>\n",
       "</div>"
      ],
      "text/plain": [
       "                 name  grp\n",
       "0        paper380.jpg    2\n",
       "1     cardboard31.jpg    3\n",
       "2         glass12.jpg    1\n",
       "3        paper169.jpg    2\n",
       "4    cardboard334.jpg    3\n",
       "..                ...  ...\n",
       "425      metal389.jpg    5\n",
       "426      paper303.jpg    2\n",
       "427      paper405.jpg    2\n",
       "428      paper465.jpg    2\n",
       "429      trash132.jpg    6\n",
       "\n",
       "[430 rows x 2 columns]"
      ]
     },
     "execution_count": 34,
     "metadata": {},
     "output_type": "execute_result"
    }
   ],
   "source": [
    "df=pd.read_csv(\"C:\\\\NaanMudhalvan\\\\garbage\\\\one-indexed-files-notrash_test.txt\",sep=\" \")\n",
    "df.columns=['name','grp']\n",
    "df"
   ]
  },
  {
   "cell_type": "code",
   "execution_count": 35,
   "id": "ba176212",
   "metadata": {},
   "outputs": [
    {
     "data": {
      "text/plain": [
       "0          paper380.jpg\n",
       "1       cardboard31.jpg\n",
       "2           glass12.jpg\n",
       "3          paper169.jpg\n",
       "4      cardboard334.jpg\n",
       "             ...       \n",
       "425        metal389.jpg\n",
       "426        paper303.jpg\n",
       "427        paper405.jpg\n",
       "428        paper465.jpg\n",
       "429        trash132.jpg\n",
       "Name: name, Length: 430, dtype: object"
      ]
     },
     "execution_count": 35,
     "metadata": {},
     "output_type": "execute_result"
    }
   ],
   "source": [
    "x=[df['name'],df['grp']]\n",
    "x[0]"
   ]
  },
  {
   "cell_type": "code",
   "execution_count": 36,
   "id": "1acb4b50",
   "metadata": {},
   "outputs": [],
   "source": [
    "import shutil\n",
    "for i in range(len(x[0])):\n",
    "         name=x[0][i]\n",
    "         grp=x[1][i]\n",
    "         shutil.move(\"garbage/Garbage classification/Garbage classification/\"+l[grp-1]+\"/\"+name,\"Dataset/Testset/\"+l[grp-1]+\"/\"+name)\n",
    "     "
   ]
  },
  {
   "cell_type": "code",
   "execution_count": 39,
   "id": "5b60eb52",
   "metadata": {},
   "outputs": [
    {
     "data": {
      "text/html": [
       "<div>\n",
       "<style scoped>\n",
       "    .dataframe tbody tr th:only-of-type {\n",
       "        vertical-align: middle;\n",
       "    }\n",
       "\n",
       "    .dataframe tbody tr th {\n",
       "        vertical-align: top;\n",
       "    }\n",
       "\n",
       "    .dataframe thead th {\n",
       "        text-align: right;\n",
       "    }\n",
       "</style>\n",
       "<table border=\"1\" class=\"dataframe\">\n",
       "  <thead>\n",
       "    <tr style=\"text-align: right;\">\n",
       "      <th></th>\n",
       "      <th>name</th>\n",
       "      <th>grp</th>\n",
       "    </tr>\n",
       "  </thead>\n",
       "  <tbody>\n",
       "    <tr>\n",
       "      <th>0</th>\n",
       "      <td>paper472.jpg</td>\n",
       "      <td>2</td>\n",
       "    </tr>\n",
       "    <tr>\n",
       "      <th>1</th>\n",
       "      <td>paper522.jpg</td>\n",
       "      <td>2</td>\n",
       "    </tr>\n",
       "    <tr>\n",
       "      <th>2</th>\n",
       "      <td>glass189.jpg</td>\n",
       "      <td>1</td>\n",
       "    </tr>\n",
       "    <tr>\n",
       "      <th>3</th>\n",
       "      <td>glass325.jpg</td>\n",
       "      <td>1</td>\n",
       "    </tr>\n",
       "    <tr>\n",
       "      <th>4</th>\n",
       "      <td>metal63.jpg</td>\n",
       "      <td>5</td>\n",
       "    </tr>\n",
       "    <tr>\n",
       "      <th>...</th>\n",
       "      <td>...</td>\n",
       "      <td>...</td>\n",
       "    </tr>\n",
       "    <tr>\n",
       "      <th>1762</th>\n",
       "      <td>cardboard6.jpg</td>\n",
       "      <td>3</td>\n",
       "    </tr>\n",
       "    <tr>\n",
       "      <th>1763</th>\n",
       "      <td>glass283.jpg</td>\n",
       "      <td>1</td>\n",
       "    </tr>\n",
       "    <tr>\n",
       "      <th>1764</th>\n",
       "      <td>metal335.jpg</td>\n",
       "      <td>5</td>\n",
       "    </tr>\n",
       "    <tr>\n",
       "      <th>1765</th>\n",
       "      <td>plastic133.jpg</td>\n",
       "      <td>4</td>\n",
       "    </tr>\n",
       "    <tr>\n",
       "      <th>1766</th>\n",
       "      <td>paper442.jpg</td>\n",
       "      <td>2</td>\n",
       "    </tr>\n",
       "  </tbody>\n",
       "</table>\n",
       "<p>1767 rows × 2 columns</p>\n",
       "</div>"
      ],
      "text/plain": [
       "                name  grp\n",
       "0       paper472.jpg    2\n",
       "1       paper522.jpg    2\n",
       "2       glass189.jpg    1\n",
       "3       glass325.jpg    1\n",
       "4        metal63.jpg    5\n",
       "...              ...  ...\n",
       "1762  cardboard6.jpg    3\n",
       "1763    glass283.jpg    1\n",
       "1764    metal335.jpg    5\n",
       "1765  plastic133.jpg    4\n",
       "1766    paper442.jpg    2\n",
       "\n",
       "[1767 rows x 2 columns]"
      ]
     },
     "execution_count": 39,
     "metadata": {},
     "output_type": "execute_result"
    }
   ],
   "source": [
    "df=pd.read_csv(\"C:\\\\NaanMudhalvan\\\\garbage\\\\one-indexed-files-notrash_train.txt\",sep=\" \")\n",
    "df.columns=['name','grp']\n",
    "df"
   ]
  },
  {
   "cell_type": "code",
   "execution_count": 41,
   "id": "966a8773",
   "metadata": {},
   "outputs": [],
   "source": [
    "x=[df['name'],df['grp']]\n",
    "\n",
    "import shutil\n",
    "for i in range(len(x[0])):\n",
    "         name=x[0][i]\n",
    "         grp=x[1][i]\n",
    "         shutil.move(\"garbage/Garbage classification/Garbage classification/\"+l[grp-1]+\"/\"+name,\"Dataset/Trainset/\"+l[grp-1]+\"/\"+name)\n",
    "     "
   ]
  },
  {
   "cell_type": "code",
   "execution_count": 42,
   "id": "6334dc8f",
   "metadata": {},
   "outputs": [
    {
     "data": {
      "text/html": [
       "<div>\n",
       "<style scoped>\n",
       "    .dataframe tbody tr th:only-of-type {\n",
       "        vertical-align: middle;\n",
       "    }\n",
       "\n",
       "    .dataframe tbody tr th {\n",
       "        vertical-align: top;\n",
       "    }\n",
       "\n",
       "    .dataframe thead th {\n",
       "        text-align: right;\n",
       "    }\n",
       "</style>\n",
       "<table border=\"1\" class=\"dataframe\">\n",
       "  <thead>\n",
       "    <tr style=\"text-align: right;\">\n",
       "      <th></th>\n",
       "      <th>name</th>\n",
       "      <th>grp</th>\n",
       "    </tr>\n",
       "  </thead>\n",
       "  <tbody>\n",
       "    <tr>\n",
       "      <th>0</th>\n",
       "      <td>plastic204.jpg</td>\n",
       "      <td>4</td>\n",
       "    </tr>\n",
       "    <tr>\n",
       "      <th>1</th>\n",
       "      <td>glass123.jpg</td>\n",
       "      <td>1</td>\n",
       "    </tr>\n",
       "    <tr>\n",
       "      <th>2</th>\n",
       "      <td>glass152.jpg</td>\n",
       "      <td>1</td>\n",
       "    </tr>\n",
       "    <tr>\n",
       "      <th>3</th>\n",
       "      <td>glass398.jpg</td>\n",
       "      <td>1</td>\n",
       "    </tr>\n",
       "    <tr>\n",
       "      <th>4</th>\n",
       "      <td>cardboard3.jpg</td>\n",
       "      <td>3</td>\n",
       "    </tr>\n",
       "    <tr>\n",
       "      <th>...</th>\n",
       "      <td>...</td>\n",
       "      <td>...</td>\n",
       "    </tr>\n",
       "    <tr>\n",
       "      <th>322</th>\n",
       "      <td>metal58.jpg</td>\n",
       "      <td>5</td>\n",
       "    </tr>\n",
       "    <tr>\n",
       "      <th>323</th>\n",
       "      <td>cardboard149.jpg</td>\n",
       "      <td>3</td>\n",
       "    </tr>\n",
       "    <tr>\n",
       "      <th>324</th>\n",
       "      <td>plastic5.jpg</td>\n",
       "      <td>4</td>\n",
       "    </tr>\n",
       "    <tr>\n",
       "      <th>325</th>\n",
       "      <td>glass23.jpg</td>\n",
       "      <td>1</td>\n",
       "    </tr>\n",
       "    <tr>\n",
       "      <th>326</th>\n",
       "      <td>paper109.jpg</td>\n",
       "      <td>2</td>\n",
       "    </tr>\n",
       "  </tbody>\n",
       "</table>\n",
       "<p>327 rows × 2 columns</p>\n",
       "</div>"
      ],
      "text/plain": [
       "                 name  grp\n",
       "0      plastic204.jpg    4\n",
       "1        glass123.jpg    1\n",
       "2        glass152.jpg    1\n",
       "3        glass398.jpg    1\n",
       "4      cardboard3.jpg    3\n",
       "..                ...  ...\n",
       "322       metal58.jpg    5\n",
       "323  cardboard149.jpg    3\n",
       "324      plastic5.jpg    4\n",
       "325       glass23.jpg    1\n",
       "326      paper109.jpg    2\n",
       "\n",
       "[327 rows x 2 columns]"
      ]
     },
     "execution_count": 42,
     "metadata": {},
     "output_type": "execute_result"
    }
   ],
   "source": [
    "df=pd.read_csv(\"C:\\\\NaanMudhalvan\\\\garbage\\\\one-indexed-files-notrash_val.txt\",sep=\" \")\n",
    "df.columns=['name','grp']\n",
    "df"
   ]
  },
  {
   "cell_type": "code",
   "execution_count": 46,
   "id": "08ee42a8",
   "metadata": {},
   "outputs": [],
   "source": [
    "x=[df['name'],df['grp']]\n",
    "\n",
    "import shutil\n",
    "for i in range(len(x[0])):\n",
    "         name=x[0][i]\n",
    "         grp=x[1][i]\n",
    "         shutil.move(\"garbage/Garbage classification/Garbage classification/\"+l[grp-1]+\"/\"+name,\"Dataset/validationset/\"+l[grp-1]+\"/\"+name)\n",
    "     "
   ]
  }
 ],
 "metadata": {
  "kernelspec": {
   "display_name": "Python 3",
   "language": "python",
   "name": "python3"
  },
  "language_info": {
   "codemirror_mode": {
    "name": "ipython",
    "version": 3
   },
   "file_extension": ".py",
   "mimetype": "text/x-python",
   "name": "python",
   "nbconvert_exporter": "python",
   "pygments_lexer": "ipython3",
   "version": "3.8.8"
  }
 },
 "nbformat": 4,
 "nbformat_minor": 5
}
